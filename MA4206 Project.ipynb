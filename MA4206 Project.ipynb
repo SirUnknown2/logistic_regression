{
 "cells": [
  {
   "cell_type": "code",
   "execution_count": 1,
   "id": "afdd1f79",
   "metadata": {},
   "outputs": [],
   "source": [
    "import numpy as np\n",
    "import statsmodels.api as sm\n",
    "from scipy.stats import pearsonr as corr\n",
    "import pandas as pd\n",
    "import matplotlib.pyplot as plt"
   ]
  },
  {
   "cell_type": "markdown",
   "id": "4abf5e09",
   "metadata": {},
   "source": [
    "## Binary_data1\n",
    "\n",
    "The 'Signs' variable is a binary response variable, so it can be modeled as a Bernoulli random variable, with probability, say $p$.\n",
    "\n",
    "Now, we do an exploratory data analysis by calculating the summary statistics and making a scatter plot. Here, a box plot of Signs doesn't make sense because the median is either 0 or 1, which are both maximum and minimum values.\n",
    "\n",
    "\n",
    "### Exploratory Data Analysis"
   ]
  },
  {
   "cell_type": "code",
   "execution_count": 2,
   "id": "bbab3eb3",
   "metadata": {},
   "outputs": [
    {
     "data": {
      "text/html": [
       "<div>\n",
       "<style scoped>\n",
       "    .dataframe tbody tr th:only-of-type {\n",
       "        vertical-align: middle;\n",
       "    }\n",
       "\n",
       "    .dataframe tbody tr th {\n",
       "        vertical-align: top;\n",
       "    }\n",
       "\n",
       "    .dataframe thead th {\n",
       "        text-align: right;\n",
       "    }\n",
       "</style>\n",
       "<table border=\"1\" class=\"dataframe\">\n",
       "  <thead>\n",
       "    <tr style=\"text-align: right;\">\n",
       "      <th></th>\n",
       "      <th>Age</th>\n",
       "      <th>Signs</th>\n",
       "    </tr>\n",
       "  </thead>\n",
       "  <tbody>\n",
       "    <tr>\n",
       "      <th>count</th>\n",
       "      <td>8.000000</td>\n",
       "      <td>8.000000</td>\n",
       "    </tr>\n",
       "    <tr>\n",
       "      <th>mean</th>\n",
       "      <td>34.000000</td>\n",
       "      <td>0.625000</td>\n",
       "    </tr>\n",
       "    <tr>\n",
       "      <th>std</th>\n",
       "      <td>12.142017</td>\n",
       "      <td>0.517549</td>\n",
       "    </tr>\n",
       "    <tr>\n",
       "      <th>min</th>\n",
       "      <td>20.000000</td>\n",
       "      <td>0.000000</td>\n",
       "    </tr>\n",
       "    <tr>\n",
       "      <th>25%</th>\n",
       "      <td>20.750000</td>\n",
       "      <td>0.000000</td>\n",
       "    </tr>\n",
       "    <tr>\n",
       "      <th>50%</th>\n",
       "      <td>38.000000</td>\n",
       "      <td>1.000000</td>\n",
       "    </tr>\n",
       "    <tr>\n",
       "      <th>75%</th>\n",
       "      <td>41.250000</td>\n",
       "      <td>1.000000</td>\n",
       "    </tr>\n",
       "    <tr>\n",
       "      <th>max</th>\n",
       "      <td>52.000000</td>\n",
       "      <td>1.000000</td>\n",
       "    </tr>\n",
       "  </tbody>\n",
       "</table>\n",
       "</div>"
      ],
      "text/plain": [
       "             Age     Signs\n",
       "count   8.000000  8.000000\n",
       "mean   34.000000  0.625000\n",
       "std    12.142017  0.517549\n",
       "min    20.000000  0.000000\n",
       "25%    20.750000  0.000000\n",
       "50%    38.000000  1.000000\n",
       "75%    41.250000  1.000000\n",
       "max    52.000000  1.000000"
      ]
     },
     "metadata": {},
     "output_type": "display_data"
    },
    {
     "data": {
      "text/plain": [
       "<matplotlib.collections.PathCollection at 0x7f84ceffa7c0>"
      ]
     },
     "execution_count": 2,
     "metadata": {},
     "output_type": "execute_result"
    },
    {
     "data": {
      "image/png": "[encoded data removed]",
      "text/plain": [
       "<Figure size 432x288 with 2 Axes>"
      ]
     },
     "metadata": {
      "needs_background": "light"
     },
     "output_type": "display_data"
    }
   ],
   "source": [
    "data = pd.read_csv('binary_data1.csv')\n",
    "data = data.drop(columns=data.columns[0])\n",
    "data = data.set_index('Subject')\n",
    "display(data.describe())\n",
    "data = sm.add_constant(data)\n",
    "fig, plts = plt.subplots(1, 2)\n",
    "plts[0].set_title('Box Plot')\n",
    "plts[0].set_ylabel('Age')\n",
    "plts[1].set_title('Scatter Plot')\n",
    "plts[1].set_xlabel('Age')\n",
    "plts[0].boxplot(data['Age'])\n",
    "plts[1].scatter(data['Age'], data['Signs'])"
   ]
  },
  {
   "cell_type": "markdown",
   "id": "2b9b7ef1",
   "metadata": {},
   "source": [
    "We observe that the data ranges from 20 to 52 years of age. The signs of blackout seems to increase with age faster than linear.\n",
    "\n",
    "So, using the logistic link function, the response variable can be modeled as\n",
    "$$log(\\frac{p}{1-p}) = \\beta_{0} + \\beta_{1} * Age$$\n",
    "\n",
    "### GLM Model and Fitting"
   ]
  },
  {
   "cell_type": "code",
   "execution_count": 3,
   "id": "f58c01c9",
   "metadata": {},
   "outputs": [
    {
     "data": {
      "text/html": [
       "<table class=\"simpletable\">\n",
       "<caption>Generalized Linear Model Regression Results</caption>\n",
       "<tr>\n",
       "  <th>Dep. Variable:</th>         <td>Signs</td>      <th>  No. Observations:  </th>  <td>     8</td> \n",
       "</tr>\n",
       "<tr>\n",
       "  <th>Model:</th>                  <td>GLM</td>       <th>  Df Residuals:      </th>  <td>     6</td> \n",
       "</tr>\n",
       "<tr>\n",
       "  <th>Model Family:</th>        <td>Binomial</td>     <th>  Df Model:          </th>  <td>     1</td> \n",
       "</tr>\n",
       "<tr>\n",
       "  <th>Link Function:</th>         <td>logit</td>      <th>  Scale:             </th> <td>  1.0000</td>\n",
       "</tr>\n",
       "<tr>\n",
       "  <th>Method:</th>                <td>IRLS</td>       <th>  Log-Likelihood:    </th> <td> -4.2173</td>\n",
       "</tr>\n",
       "<tr>\n",
       "  <th>Date:</th>            <td>Thu, 12 May 2022</td> <th>  Deviance:          </th> <td>  8.4345</td>\n",
       "</tr>\n",
       "<tr>\n",
       "  <th>Time:</th>                <td>15:09:43</td>     <th>  Pearson chi2:      </th>  <td>  7.42</td> \n",
       "</tr>\n",
       "<tr>\n",
       "  <th>No. Iterations:</th>          <td>4</td>        <th>                     </th>     <td> </td>   \n",
       "</tr>\n",
       "<tr>\n",
       "  <th>Covariance Type:</th>     <td>nonrobust</td>    <th>                     </th>     <td> </td>   \n",
       "</tr>\n",
       "</table>\n",
       "<table class=\"simpletable\">\n",
       "<tr>\n",
       "    <td></td>       <th>coef</th>     <th>std err</th>      <th>z</th>      <th>P>|z|</th>  <th>[0.025</th>    <th>0.975]</th>  \n",
       "</tr>\n",
       "<tr>\n",
       "  <th>const</th> <td>   -2.9209</td> <td>    2.647</td> <td>   -1.104</td> <td> 0.270</td> <td>   -8.108</td> <td>    2.266</td>\n",
       "</tr>\n",
       "<tr>\n",
       "  <th>Age</th>   <td>    0.1057</td> <td>    0.080</td> <td>    1.315</td> <td> 0.188</td> <td>   -0.052</td> <td>    0.263</td>\n",
       "</tr>\n",
       "</table>"
      ],
      "text/plain": [
       "<class 'statsmodels.iolib.summary.Summary'>\n",
       "\"\"\"\n",
       "                 Generalized Linear Model Regression Results                  \n",
       "==============================================================================\n",
       "Dep. Variable:                  Signs   No. Observations:                    8\n",
       "Model:                            GLM   Df Residuals:                        6\n",
       "Model Family:                Binomial   Df Model:                            1\n",
       "Link Function:                  logit   Scale:                          1.0000\n",
       "Method:                          IRLS   Log-Likelihood:                -4.2173\n",
       "Date:                Thu, 12 May 2022   Deviance:                       8.4345\n",
       "Time:                        15:09:43   Pearson chi2:                     7.42\n",
       "No. Iterations:                     4                                         \n",
       "Covariance Type:            nonrobust                                         \n",
       "==============================================================================\n",
       "                 coef    std err          z      P>|z|      [0.025      0.975]\n",
       "------------------------------------------------------------------------------\n",
       "const         -2.9209      2.647     -1.104      0.270      -8.108       2.266\n",
       "Age            0.1057      0.080      1.315      0.188      -0.052       0.263\n",
       "==============================================================================\n",
       "\"\"\""
      ]
     },
     "metadata": {},
     "output_type": "display_data"
    },
    {
     "data": {
      "text/plain": [
       "[<matplotlib.lines.Line2D at 0x7f84ceec9bb0>]"
      ]
     },
     "execution_count": 3,
     "metadata": {},
     "output_type": "execute_result"
    },
    {
     "data": {
      "image/png": "[encoded data removed]",
      "text/plain": [
       "<Figure size 432x288 with 1 Axes>"
      ]
     },
     "metadata": {
      "needs_background": "light"
     },
     "output_type": "display_data"
    }
   ],
   "source": [
    "data = sm.add_constant(data)\n",
    "glm_binom = sm.GLM(data['Signs'], data.drop(columns=['Signs']), family=sm.families.Binomial())\n",
    "res = glm_binom.fit()\n",
    "display(res.summary())\n",
    "xs = np.linspace(np.min(data['Age']), np.max(data['Age']), 100)\n",
    "ys = res.predict(sm.add_constant(xs))\n",
    "plt.scatter(data['Age'], data['Signs'])\n",
    "plt.title('Fitted Results')\n",
    "plt.xlabel('Age')\n",
    "plt.ylabel('Signs')\n",
    "plt.plot(xs, ys)"
   ]
  },
  {
   "cell_type": "markdown",
   "id": "401ff96f",
   "metadata": {},
   "source": [
    "We observe that the fitted model is\n",
    "$$log(\\frac{p}{1-p}) = -2.92 + 0.107 * Age$$\n",
    "\n",
    "Both coefficient have low p-values, so we have a high degree of confidence in our model. As $\\beta_{1} > 0$, we can say with some confidence that signs of blackout increase with age, and resistance to blackouts decrease with age.\n",
    "\n",
    "## Binary_data2\n",
    "\n",
    "In this case too, the data is a binary response variable which takes value 1 if the rain that year exceeds the threshold of 10mm, and 0 otherwise."
   ]
  },
  {
   "cell_type": "code",
   "execution_count": 4,
   "id": "d61386d4",
   "metadata": {},
   "outputs": [
    {
     "data": {
      "text/plain": [
       "<matplotlib.collections.PathCollection at 0x7f84ceeb2a30>"
      ]
     },
     "execution_count": 4,
     "metadata": {},
     "output_type": "execute_result"
    },
    {
     "data": {
      "image/png": "[encoded data removed]",
      "text/plain": [
       "<Figure size 432x288 with 1 Axes>"
      ]
     },
     "metadata": {
      "needs_background": "light"
     },
     "output_type": "display_data"
    }
   ],
   "source": [
    "data = pd.read_csv('binary_data2.csv')\n",
    "data = data.drop(columns=[data.columns[0], 'Exceed'])\n",
    "plt.scatter(data['SOI'], data['y'])"
   ]
  },
  {
   "cell_type": "markdown",
   "id": "17fe66d2",
   "metadata": {},
   "source": [
    "We observe that proportion of exceed of rain threshold seems to increase faster than linearly, so we use a similar logistic function as the last dataset. Let us assume that the response variable follows a Bernoulli distribution with probability of success $p$.\n",
    "\n",
    "Then, $$log(\\frac{p_{i}}{1-p_{i}}) = \\beta_{0} + \\beta_{1} * Year_{i} + \\beta_{2} * SOI_{i} + \\beta_{3} * Phase_{i}$$"
   ]
  },
  {
   "cell_type": "code",
   "execution_count": 5,
   "id": "f8224d23",
   "metadata": {},
   "outputs": [
    {
     "data": {
      "text/html": [
       "<table class=\"simpletable\">\n",
       "<caption>Generalized Linear Model Regression Results</caption>\n",
       "<tr>\n",
       "  <th>Dep. Variable:</th>           <td>y</td>        <th>  No. Observations:  </th>  <td>    68</td> \n",
       "</tr>\n",
       "<tr>\n",
       "  <th>Model:</th>                  <td>GLM</td>       <th>  Df Residuals:      </th>  <td>    64</td> \n",
       "</tr>\n",
       "<tr>\n",
       "  <th>Model Family:</th>        <td>Binomial</td>     <th>  Df Model:          </th>  <td>     3</td> \n",
       "</tr>\n",
       "<tr>\n",
       "  <th>Link Function:</th>         <td>logit</td>      <th>  Scale:             </th> <td>  1.0000</td>\n",
       "</tr>\n",
       "<tr>\n",
       "  <th>Method:</th>                <td>IRLS</td>       <th>  Log-Likelihood:    </th> <td> -37.580</td>\n",
       "</tr>\n",
       "<tr>\n",
       "  <th>Date:</th>            <td>Thu, 12 May 2022</td> <th>  Deviance:          </th> <td>  75.160</td>\n",
       "</tr>\n",
       "<tr>\n",
       "  <th>Time:</th>                <td>15:09:44</td>     <th>  Pearson chi2:      </th>  <td>  68.1</td> \n",
       "</tr>\n",
       "<tr>\n",
       "  <th>No. Iterations:</th>          <td>5</td>        <th>                     </th>     <td> </td>   \n",
       "</tr>\n",
       "<tr>\n",
       "  <th>Covariance Type:</th>     <td>nonrobust</td>    <th>                     </th>     <td> </td>   \n",
       "</tr>\n",
       "</table>\n",
       "<table class=\"simpletable\">\n",
       "<tr>\n",
       "    <td></td>       <th>coef</th>     <th>std err</th>      <th>z</th>      <th>P>|z|</th>  <th>[0.025</th>    <th>0.975]</th>  \n",
       "</tr>\n",
       "<tr>\n",
       "  <th>const</th> <td>  -12.2057</td> <td>   28.099</td> <td>   -0.434</td> <td> 0.664</td> <td>  -67.278</td> <td>   42.867</td>\n",
       "</tr>\n",
       "<tr>\n",
       "  <th>Year</th>  <td>    0.0066</td> <td>    0.014</td> <td>    0.457</td> <td> 0.648</td> <td>   -0.022</td> <td>    0.035</td>\n",
       "</tr>\n",
       "<tr>\n",
       "  <th>SOI</th>   <td>    0.1497</td> <td>    0.043</td> <td>    3.514</td> <td> 0.000</td> <td>    0.066</td> <td>    0.233</td>\n",
       "</tr>\n",
       "<tr>\n",
       "  <th>Phase</th> <td>   -0.1528</td> <td>    0.214</td> <td>   -0.713</td> <td> 0.476</td> <td>   -0.573</td> <td>    0.267</td>\n",
       "</tr>\n",
       "</table>"
      ],
      "text/plain": [
       "<class 'statsmodels.iolib.summary.Summary'>\n",
       "\"\"\"\n",
       "                 Generalized Linear Model Regression Results                  \n",
       "==============================================================================\n",
       "Dep. Variable:                      y   No. Observations:                   68\n",
       "Model:                            GLM   Df Residuals:                       64\n",
       "Model Family:                Binomial   Df Model:                            3\n",
       "Link Function:                  logit   Scale:                          1.0000\n",
       "Method:                          IRLS   Log-Likelihood:                -37.580\n",
       "Date:                Thu, 12 May 2022   Deviance:                       75.160\n",
       "Time:                        15:09:44   Pearson chi2:                     68.1\n",
       "No. Iterations:                     5                                         \n",
       "Covariance Type:            nonrobust                                         \n",
       "==============================================================================\n",
       "                 coef    std err          z      P>|z|      [0.025      0.975]\n",
       "------------------------------------------------------------------------------\n",
       "const        -12.2057     28.099     -0.434      0.664     -67.278      42.867\n",
       "Year           0.0066      0.014      0.457      0.648      -0.022       0.035\n",
       "SOI            0.1497      0.043      3.514      0.000       0.066       0.233\n",
       "Phase         -0.1528      0.214     -0.713      0.476      -0.573       0.267\n",
       "==============================================================================\n",
       "\"\"\""
      ]
     },
     "metadata": {},
     "output_type": "display_data"
    }
   ],
   "source": [
    "data = sm.add_constant(data)\n",
    "glm_binom = sm.GLM(data['y'], data.drop(columns=['y', 'Rain']), family=sm.families.Binomial())\n",
    "res = glm_binom.fit()\n",
    "display(res.summary())"
   ]
  },
  {
   "cell_type": "markdown",
   "id": "6cf2c2b6",
   "metadata": {},
   "source": [
    "We observe that p-values for SOI and Phase are quite low, and in fact, the p-value for SOI is close to 0. So we can state with high confidence that probability of rainfall beyond the threshold increases with SOI, as $\\beta_{2} > 0$. Also, the proportion of rain threshold decrease with phase, as $\\beta_{1} < 0$.\n",
    "\n",
    "p-value for 'Year' is quite high. So, proportion of exceed of rain threshold likely doesn't depend on time.\n",
    "\n",
    "## Count_data1\n",
    "\n",
    "We plot number of noisy miners vs. Euc"
   ]
  },
  {
   "cell_type": "code",
   "execution_count": 6,
   "id": "50804d10",
   "metadata": {},
   "outputs": [
    {
     "data": {
      "text/plain": [
       "<matplotlib.collections.PathCollection at 0x7f84cee25520>"
      ]
     },
     "execution_count": 6,
     "metadata": {},
     "output_type": "execute_result"
    },
    {
     "data": {
      "image/png": "[encoded data removed]",
      "text/plain": [
       "<Figure size 432x288 with 1 Axes>"
      ]
     },
     "metadata": {
      "needs_background": "light"
     },
     "output_type": "display_data"
    }
   ],
   "source": [
    "data = pd.read_csv('count_data1.csv')\n",
    "data = data.drop(columns=data.columns[0])\n",
    "plt.scatter(data['Euc'], data['noisy_miners'])"
   ]
  },
  {
   "cell_type": "markdown",
   "id": "f95dd7c9",
   "metadata": {},
   "source": [
    "We observe that the number of noisy miners seems to increase exponentially with respect to number of eucalyptus trees in a two-hectare block. So, in order to perform GLM, we should use link function $\\eta_{i} = log(\\lambda_{i})$.\n",
    "\n",
    "Here, we have assumed that the number of noisy miners follows a Poisson distribution with parameter $\\lambda_{i}$.\n",
    "\n",
    "So, the model is assumed as $$log(\\lambda_{i}) = \\beta_{0} + \\beta_{1} * Euc_{i}$$"
   ]
  },
  {
   "cell_type": "code",
   "execution_count": 7,
   "id": "b66897ae",
   "metadata": {},
   "outputs": [
    {
     "data": {
      "text/html": [
       "<table class=\"simpletable\">\n",
       "<caption>Generalized Linear Model Regression Results</caption>\n",
       "<tr>\n",
       "  <th>Dep. Variable:</th>     <td>noisy_miners</td>   <th>  No. Observations:  </th>  <td>    31</td> \n",
       "</tr>\n",
       "<tr>\n",
       "  <th>Model:</th>                  <td>GLM</td>       <th>  Df Residuals:      </th>  <td>    29</td> \n",
       "</tr>\n",
       "<tr>\n",
       "  <th>Model Family:</th>         <td>Poisson</td>     <th>  Df Model:          </th>  <td>     1</td> \n",
       "</tr>\n",
       "<tr>\n",
       "  <th>Link Function:</th>          <td>log</td>       <th>  Scale:             </th> <td>  1.0000</td>\n",
       "</tr>\n",
       "<tr>\n",
       "  <th>Method:</th>                <td>IRLS</td>       <th>  Log-Likelihood:    </th> <td> -58.736</td>\n",
       "</tr>\n",
       "<tr>\n",
       "  <th>Date:</th>            <td>Thu, 12 May 2022</td> <th>  Deviance:          </th> <td>  63.318</td>\n",
       "</tr>\n",
       "<tr>\n",
       "  <th>Time:</th>                <td>15:09:44</td>     <th>  Pearson chi2:      </th>  <td>  67.5</td> \n",
       "</tr>\n",
       "<tr>\n",
       "  <th>No. Iterations:</th>          <td>5</td>        <th>                     </th>     <td> </td>   \n",
       "</tr>\n",
       "<tr>\n",
       "  <th>Covariance Type:</th>     <td>nonrobust</td>    <th>                     </th>     <td> </td>   \n",
       "</tr>\n",
       "</table>\n",
       "<table class=\"simpletable\">\n",
       "<tr>\n",
       "    <td></td>       <th>coef</th>     <th>std err</th>      <th>z</th>      <th>P>|z|</th>  <th>[0.025</th>    <th>0.975]</th>  \n",
       "</tr>\n",
       "<tr>\n",
       "  <th>const</th> <td>   -0.8762</td> <td>    0.283</td> <td>   -3.098</td> <td> 0.002</td> <td>   -1.431</td> <td>   -0.322</td>\n",
       "</tr>\n",
       "<tr>\n",
       "  <th>Euc</th>   <td>    0.1140</td> <td>    0.012</td> <td>    9.169</td> <td> 0.000</td> <td>    0.090</td> <td>    0.138</td>\n",
       "</tr>\n",
       "</table>"
      ],
      "text/plain": [
       "<class 'statsmodels.iolib.summary.Summary'>\n",
       "\"\"\"\n",
       "                 Generalized Linear Model Regression Results                  \n",
       "==============================================================================\n",
       "Dep. Variable:           noisy_miners   No. Observations:                   31\n",
       "Model:                            GLM   Df Residuals:                       29\n",
       "Model Family:                 Poisson   Df Model:                            1\n",
       "Link Function:                    log   Scale:                          1.0000\n",
       "Method:                          IRLS   Log-Likelihood:                -58.736\n",
       "Date:                Thu, 12 May 2022   Deviance:                       63.318\n",
       "Time:                        15:09:44   Pearson chi2:                     67.5\n",
       "No. Iterations:                     5                                         \n",
       "Covariance Type:            nonrobust                                         \n",
       "==============================================================================\n",
       "                 coef    std err          z      P>|z|      [0.025      0.975]\n",
       "------------------------------------------------------------------------------\n",
       "const         -0.8762      0.283     -3.098      0.002      -1.431      -0.322\n",
       "Euc            0.1140      0.012      9.169      0.000       0.090       0.138\n",
       "==============================================================================\n",
       "\"\"\""
      ]
     },
     "metadata": {},
     "output_type": "display_data"
    },
    {
     "name": "stdout",
     "output_type": "stream",
     "text": [
      "Akaike Information Criteria =  121.4729540354475\n"
     ]
    },
    {
     "data": {
      "text/plain": [
       "[<matplotlib.lines.Line2D at 0x7f84cee1a5e0>]"
      ]
     },
     "execution_count": 7,
     "metadata": {},
     "output_type": "execute_result"
    },
    {
     "data": {
      "image/png": "[encoded data removed]",
      "text/plain": [
       "<Figure size 432x288 with 1 Axes>"
      ]
     },
     "metadata": {
      "needs_background": "light"
     },
     "output_type": "display_data"
    }
   ],
   "source": [
    "data = sm.add_constant(data)\n",
    "glm_poisson = sm.GLM(data['noisy_miners'], data.drop(columns='noisy_miners'), family=sm.families.Poisson())\n",
    "res = glm_poisson.fit()\n",
    "display(res.summary())\n",
    "print('Akaike Information Criteria = ', res.aic)\n",
    "xs = np.linspace(np.min(data['Euc']), np.max(data['Euc']), 100)\n",
    "ys = res.predict(sm.add_constant(xs))\n",
    "plt.scatter(data['Euc'], data['noisy_miners'])\n",
    "plt.xlabel('Euc')\n",
    "plt.ylabel('Noisy Miners')\n",
    "plt.plot(xs, ys)"
   ]
  },
  {
   "cell_type": "markdown",
   "id": "30dd1153",
   "metadata": {},
   "source": [
    "We observe that the p-values are very small. Also, the Akaike Information Criterion value is approximately $121.473$, so we can say that the fit is quite good.\n",
    "\n",
    "## Survival_data\n",
    "\n",
    "### Exploratory Data Analysis"
   ]
  },
  {
   "cell_type": "code",
   "execution_count": 8,
   "id": "99fbc932",
   "metadata": {},
   "outputs": [
    {
     "data": {
      "text/html": [
       "<div>\n",
       "<style scoped>\n",
       "    .dataframe tbody tr th:only-of-type {\n",
       "        vertical-align: middle;\n",
       "    }\n",
       "\n",
       "    .dataframe tbody tr th {\n",
       "        vertical-align: top;\n",
       "    }\n",
       "\n",
       "    .dataframe thead th {\n",
       "        text-align: right;\n",
       "    }\n",
       "</style>\n",
       "<table border=\"1\" class=\"dataframe\">\n",
       "  <thead>\n",
       "    <tr style=\"text-align: right;\">\n",
       "      <th></th>\n",
       "      <th>WBC</th>\n",
       "      <th>Time</th>\n",
       "      <th>AG</th>\n",
       "    </tr>\n",
       "  </thead>\n",
       "  <tbody>\n",
       "    <tr>\n",
       "      <th>count</th>\n",
       "      <td>33.000000</td>\n",
       "      <td>33.000000</td>\n",
       "      <td>33.000000</td>\n",
       "    </tr>\n",
       "    <tr>\n",
       "      <th>mean</th>\n",
       "      <td>29165.151515</td>\n",
       "      <td>40.878788</td>\n",
       "      <td>1.484848</td>\n",
       "    </tr>\n",
       "    <tr>\n",
       "      <th>std</th>\n",
       "      <td>34489.388053</td>\n",
       "      <td>46.703023</td>\n",
       "      <td>0.507519</td>\n",
       "    </tr>\n",
       "    <tr>\n",
       "      <th>min</th>\n",
       "      <td>750.000000</td>\n",
       "      <td>1.000000</td>\n",
       "      <td>1.000000</td>\n",
       "    </tr>\n",
       "    <tr>\n",
       "      <th>25%</th>\n",
       "      <td>5300.000000</td>\n",
       "      <td>4.000000</td>\n",
       "      <td>1.000000</td>\n",
       "    </tr>\n",
       "    <tr>\n",
       "      <th>50%</th>\n",
       "      <td>10500.000000</td>\n",
       "      <td>22.000000</td>\n",
       "      <td>1.000000</td>\n",
       "    </tr>\n",
       "    <tr>\n",
       "      <th>75%</th>\n",
       "      <td>32000.000000</td>\n",
       "      <td>65.000000</td>\n",
       "      <td>2.000000</td>\n",
       "    </tr>\n",
       "    <tr>\n",
       "      <th>max</th>\n",
       "      <td>100000.000000</td>\n",
       "      <td>156.000000</td>\n",
       "      <td>2.000000</td>\n",
       "    </tr>\n",
       "  </tbody>\n",
       "</table>\n",
       "</div>"
      ],
      "text/plain": [
       "                 WBC        Time         AG\n",
       "count      33.000000   33.000000  33.000000\n",
       "mean    29165.151515   40.878788   1.484848\n",
       "std     34489.388053   46.703023   0.507519\n",
       "min       750.000000    1.000000   1.000000\n",
       "25%      5300.000000    4.000000   1.000000\n",
       "50%     10500.000000   22.000000   1.000000\n",
       "75%     32000.000000   65.000000   2.000000\n",
       "max    100000.000000  156.000000   2.000000"
      ]
     },
     "metadata": {},
     "output_type": "display_data"
    },
    {
     "name": "stdout",
     "output_type": "stream",
     "text": [
      "Pearson's r of Time with WBC:  -0.5087889215640556\n",
      "Pearson's r with of Time with AG:  -0.48393865646034695\n"
     ]
    },
    {
     "data": {
      "image/png": "[encoded data removed]",
      "text/plain": [
       "<Figure size 432x288 with 2 Axes>"
      ]
     },
     "metadata": {
      "needs_background": "light"
     },
     "output_type": "display_data"
    }
   ],
   "source": [
    "data = pd.read_csv('survival_data.csv')\n",
    "data = data.drop(columns=data.columns[0])\n",
    "display(data.describe())\n",
    "fig, plts = plt.subplots(1, 2)\n",
    "fig.tight_layout()\n",
    "plts[0].set_title('WBC')\n",
    "plts[1].set_title('Time')\n",
    "plts[0].boxplot(data['WBC'])\n",
    "plts[1].boxplot(data['Time'])\n",
    "print('Pearson\\'s r of Time with WBC: ', corr(np.log(data['WBC']), data['Time'])[0])\n",
    "print('Pearson\\'s r with of Time with AG: ', corr(data['AG'], data['Time'])[0])"
   ]
  },
  {
   "cell_type": "markdown",
   "id": "a74b9b32",
   "metadata": {},
   "source": [
    "We observe that Pearson's r correlation coefficients of Time with both log(WBC) and AG are quite high, and negative. So, we can say that survival time depends on WBC and AG, as in the lower WBC counts are, the longer the individual is expected to survive. Similarly, if AG factor is 1, the patient is more likely to survive than if AG factor is 2."
   ]
  },
  {
   "cell_type": "code",
   "execution_count": 9,
   "id": "b30a31c2",
   "metadata": {},
   "outputs": [
    {
     "data": {
      "text/plain": [
       "<matplotlib.collections.PathCollection at 0x7f84ceb7e100>"
      ]
     },
     "execution_count": 9,
     "metadata": {},
     "output_type": "execute_result"
    },
    {
     "data": {
      "image/png": "[encoded data removed]",
      "text/plain": [
       "<Figure size 432x288 with 3 Axes>"
      ]
     },
     "metadata": {
      "needs_background": "light"
     },
     "output_type": "display_data"
    }
   ],
   "source": [
    "fig, plts = plt.subplots(3, 1)\n",
    "fig.tight_layout(h_pad=3)\n",
    "plts[0].set_xlabel('WBC')\n",
    "plts[0].set_ylabel('Time')\n",
    "plts[0].scatter(np.log(data['WBC']), data['Time'])\n",
    "plts[1].set_xlabel('WBC')\n",
    "plts[1].set_ylabel('Time')\n",
    "plts[1].set_title('AG = 1')\n",
    "plts[1].scatter(np.log(data.loc[data['AG']==1]['WBC']), data.loc[data['AG']==1]['Time'])\n",
    "plts[2].set_xlabel('WBC')\n",
    "plts[2].set_ylabel('Time')\n",
    "plts[2].set_title('AG = 2')\n",
    "plts[2].scatter(np.log(data.loc[data['AG']==2]['WBC']), data.loc[data['AG']==2]['Time'])"
   ]
  },
  {
   "cell_type": "markdown",
   "id": "89f9c76a",
   "metadata": {},
   "source": [
    "We observe that plotting the Time with log(WBC) doesn't give a good scatter plot. However, for AG = 1, we get a reasonably good approximation of a linear model.\n",
    "\n",
    "### GLM Model and Fitting\n",
    "\n",
    "So now, we assume that the Survival Times follow an exponential distribution with parameter $\\lambda_{i}$. Then, we assume the GLM as $$log(\\lambda_{i}) = \\beta_{0} + \\beta_{1} * WBC_{i} + \\beta_{2} * AG_{i}$$"
   ]
  },
  {
   "cell_type": "code",
   "execution_count": 10,
   "id": "27d1bf22",
   "metadata": {},
   "outputs": [
    {
     "data": {
      "text/html": [
       "<table class=\"simpletable\">\n",
       "<caption>Generalized Linear Model Regression Results</caption>\n",
       "<tr>\n",
       "  <th>Dep. Variable:</th>         <td>Time</td>       <th>  No. Observations:  </th>  <td>    33</td> \n",
       "</tr>\n",
       "<tr>\n",
       "  <th>Model:</th>                  <td>GLM</td>       <th>  Df Residuals:      </th>  <td>    30</td> \n",
       "</tr>\n",
       "<tr>\n",
       "  <th>Model Family:</th>          <td>Gamma</td>      <th>  Df Model:          </th>  <td>     2</td> \n",
       "</tr>\n",
       "<tr>\n",
       "  <th>Link Function:</th>          <td>log</td>       <th>  Scale:             </th> <td>  1.0546</td>\n",
       "</tr>\n",
       "<tr>\n",
       "  <th>Method:</th>                <td>IRLS</td>       <th>  Log-Likelihood:    </th> <td> -148.40</td>\n",
       "</tr>\n",
       "<tr>\n",
       "  <th>Date:</th>            <td>Thu, 12 May 2022</td> <th>  Deviance:          </th> <td>  44.292</td>\n",
       "</tr>\n",
       "<tr>\n",
       "  <th>Time:</th>                <td>15:09:45</td>     <th>  Pearson chi2:      </th>  <td>  31.6</td> \n",
       "</tr>\n",
       "<tr>\n",
       "  <th>No. Iterations:</th>         <td>33</td>        <th>                     </th>     <td> </td>   \n",
       "</tr>\n",
       "<tr>\n",
       "  <th>Covariance Type:</th>     <td>nonrobust</td>    <th>                     </th>     <td> </td>   \n",
       "</tr>\n",
       "</table>\n",
       "<table class=\"simpletable\">\n",
       "<tr>\n",
       "    <td></td>       <th>coef</th>     <th>std err</th>      <th>z</th>      <th>P>|z|</th>  <th>[0.025</th>    <th>0.975]</th>  \n",
       "</tr>\n",
       "<tr>\n",
       "  <th>const</th> <td>    5.3518</td> <td>    0.581</td> <td>    9.217</td> <td> 0.000</td> <td>    4.214</td> <td>    6.490</td>\n",
       "</tr>\n",
       "<tr>\n",
       "  <th>WBC</th>   <td> -6.83e-06</td> <td> 5.26e-06</td> <td>   -1.298</td> <td> 0.194</td> <td>-1.71e-05</td> <td> 3.49e-06</td>\n",
       "</tr>\n",
       "<tr>\n",
       "  <th>AG</th>    <td>   -1.1125</td> <td>    0.358</td> <td>   -3.110</td> <td> 0.002</td> <td>   -1.814</td> <td>   -0.411</td>\n",
       "</tr>\n",
       "</table>"
      ],
      "text/plain": [
       "<class 'statsmodels.iolib.summary.Summary'>\n",
       "\"\"\"\n",
       "                 Generalized Linear Model Regression Results                  \n",
       "==============================================================================\n",
       "Dep. Variable:                   Time   No. Observations:                   33\n",
       "Model:                            GLM   Df Residuals:                       30\n",
       "Model Family:                   Gamma   Df Model:                            2\n",
       "Link Function:                    log   Scale:                          1.0546\n",
       "Method:                          IRLS   Log-Likelihood:                -148.40\n",
       "Date:                Thu, 12 May 2022   Deviance:                       44.292\n",
       "Time:                        15:09:45   Pearson chi2:                     31.6\n",
       "No. Iterations:                    33                                         \n",
       "Covariance Type:            nonrobust                                         \n",
       "==============================================================================\n",
       "                 coef    std err          z      P>|z|      [0.025      0.975]\n",
       "------------------------------------------------------------------------------\n",
       "const          5.3518      0.581      9.217      0.000       4.214       6.490\n",
       "WBC         -6.83e-06   5.26e-06     -1.298      0.194   -1.71e-05    3.49e-06\n",
       "AG            -1.1125      0.358     -3.110      0.002      -1.814      -0.411\n",
       "==============================================================================\n",
       "\"\"\""
      ]
     },
     "metadata": {},
     "output_type": "display_data"
    },
    {
     "name": "stdout",
     "output_type": "stream",
     "text": [
      "Akaike Information Criterion:  302.79245332738793\n"
     ]
    }
   ],
   "source": [
    "data = sm.add_constant(data)\n",
    "glm_exp = sm.GLM(data['Time'], data.drop(columns=['Time']), family=sm.families.Gamma(link=sm.families.links.log()))\n",
    "res = glm_exp.fit()\n",
    "display(res.summary())\n",
    "print('Akaike Information Criterion: ', res.aic)"
   ]
  },
  {
   "cell_type": "markdown",
   "id": "d6b19358",
   "metadata": {},
   "source": [
    "We observe that p-value for WBC is quite high. Also, AIC value is 302.8, which is quite high. So, we have very little confidence in our model and our fitted parameter. However, p-value for AG is low, so Survival Time depends on AG. This is therefore not a good model.\n",
    "\n",
    "A good guess is that the errors are dependent on AG values, which cannot be fit by a linear model.\n",
    "\n",
    "### Choice of new model\n",
    "\n",
    "We use the same GLM, but in this case, we separate the data on the basis of AG factors. We fit the model separately with respect to each AG factor."
   ]
  },
  {
   "cell_type": "code",
   "execution_count": 11,
   "id": "0a94099c",
   "metadata": {
    "scrolled": true
   },
   "outputs": [
    {
     "data": {
      "text/html": [
       "<table class=\"simpletable\">\n",
       "<caption>Generalized Linear Model Regression Results</caption>\n",
       "<tr>\n",
       "  <th>Dep. Variable:</th>         <td>Time</td>       <th>  No. Observations:  </th>  <td>    17</td> \n",
       "</tr>\n",
       "<tr>\n",
       "  <th>Model:</th>                  <td>GLM</td>       <th>  Df Residuals:      </th>  <td>    15</td> \n",
       "</tr>\n",
       "<tr>\n",
       "  <th>Model Family:</th>          <td>Gamma</td>      <th>  Df Model:          </th>  <td>     1</td> \n",
       "</tr>\n",
       "<tr>\n",
       "  <th>Link Function:</th>          <td>log</td>       <th>  Scale:             </th> <td>  1.0025</td>\n",
       "</tr>\n",
       "<tr>\n",
       "  <th>Method:</th>                <td>IRLS</td>       <th>  Log-Likelihood:    </th> <td> -84.762</td>\n",
       "</tr>\n",
       "<tr>\n",
       "  <th>Date:</th>            <td>Thu, 12 May 2022</td> <th>  Deviance:          </th> <td>  21.230</td>\n",
       "</tr>\n",
       "<tr>\n",
       "  <th>Time:</th>                <td>15:09:45</td>     <th>  Pearson chi2:      </th>  <td>  15.0</td> \n",
       "</tr>\n",
       "<tr>\n",
       "  <th>No. Iterations:</th>         <td>17</td>        <th>                     </th>     <td> </td>   \n",
       "</tr>\n",
       "<tr>\n",
       "  <th>Covariance Type:</th>     <td>nonrobust</td>    <th>                     </th>     <td> </td>   \n",
       "</tr>\n",
       "</table>\n",
       "<table class=\"simpletable\">\n",
       "<tr>\n",
       "    <td></td>       <th>coef</th>     <th>std err</th>      <th>z</th>      <th>P>|z|</th>  <th>[0.025</th>    <th>0.975]</th>  \n",
       "</tr>\n",
       "<tr>\n",
       "  <th>const</th> <td>    4.4492</td> <td>    0.314</td> <td>   14.161</td> <td> 0.000</td> <td>    3.833</td> <td>    5.065</td>\n",
       "</tr>\n",
       "<tr>\n",
       "  <th>WBC</th>   <td>-1.593e-05</td> <td> 6.86e-06</td> <td>   -2.323</td> <td> 0.020</td> <td>-2.94e-05</td> <td>-2.49e-06</td>\n",
       "</tr>\n",
       "</table>"
      ],
      "text/plain": [
       "<class 'statsmodels.iolib.summary.Summary'>\n",
       "\"\"\"\n",
       "                 Generalized Linear Model Regression Results                  \n",
       "==============================================================================\n",
       "Dep. Variable:                   Time   No. Observations:                   17\n",
       "Model:                            GLM   Df Residuals:                       15\n",
       "Model Family:                   Gamma   Df Model:                            1\n",
       "Link Function:                    log   Scale:                          1.0025\n",
       "Method:                          IRLS   Log-Likelihood:                -84.762\n",
       "Date:                Thu, 12 May 2022   Deviance:                       21.230\n",
       "Time:                        15:09:45   Pearson chi2:                     15.0\n",
       "No. Iterations:                    17                                         \n",
       "Covariance Type:            nonrobust                                         \n",
       "==============================================================================\n",
       "                 coef    std err          z      P>|z|      [0.025      0.975]\n",
       "------------------------------------------------------------------------------\n",
       "const          4.4492      0.314     14.161      0.000       3.833       5.065\n",
       "WBC        -1.593e-05   6.86e-06     -2.323      0.020   -2.94e-05   -2.49e-06\n",
       "==============================================================================\n",
       "\"\"\""
      ]
     },
     "metadata": {},
     "output_type": "display_data"
    },
    {
     "name": "stdout",
     "output_type": "stream",
     "text": [
      "Akaike Information Criterion:  173.52403583421074\n"
     ]
    }
   ],
   "source": [
    "glm_exp = sm.GLM(data.loc[data['AG']==1]['Time'], data.loc[data['AG']==1].drop(columns=['Time', 'AG']), family=sm.families.Gamma(link=sm.families.links.log()))\n",
    "resAG1 = glm_exp.fit()\n",
    "display(resAG1.summary())\n",
    "print('Akaike Information Criterion: ', resAG1.aic)"
   ]
  },
  {
   "cell_type": "code",
   "execution_count": 12,
   "id": "009e2dc5",
   "metadata": {},
   "outputs": [
    {
     "data": {
      "text/html": [
       "<table class=\"simpletable\">\n",
       "<caption>Generalized Linear Model Regression Results</caption>\n",
       "<tr>\n",
       "  <th>Dep. Variable:</th>         <td>Time</td>       <th>  No. Observations:  </th>  <td>    16</td> \n",
       "</tr>\n",
       "<tr>\n",
       "  <th>Model:</th>                  <td>GLM</td>       <th>  Df Residuals:      </th>  <td>    14</td> \n",
       "</tr>\n",
       "<tr>\n",
       "  <th>Model Family:</th>          <td>Gamma</td>      <th>  Df Model:          </th>  <td>     1</td> \n",
       "</tr>\n",
       "<tr>\n",
       "  <th>Link Function:</th>          <td>log</td>       <th>  Scale:             </th> <td>  1.3778</td>\n",
       "</tr>\n",
       "<tr>\n",
       "  <th>Method:</th>                <td>IRLS</td>       <th>  Log-Likelihood:    </th> <td> -62.479</td>\n",
       "</tr>\n",
       "<tr>\n",
       "  <th>Date:</th>            <td>Thu, 12 May 2022</td> <th>  Deviance:          </th> <td>  19.915</td>\n",
       "</tr>\n",
       "<tr>\n",
       "  <th>Time:</th>                <td>15:09:45</td>     <th>  Pearson chi2:      </th>  <td>  19.3</td> \n",
       "</tr>\n",
       "<tr>\n",
       "  <th>No. Iterations:</th>         <td>23</td>        <th>                     </th>     <td> </td>   \n",
       "</tr>\n",
       "<tr>\n",
       "  <th>Covariance Type:</th>     <td>nonrobust</td>    <th>                     </th>     <td> </td>   \n",
       "</tr>\n",
       "</table>\n",
       "<table class=\"simpletable\">\n",
       "<tr>\n",
       "    <td></td>       <th>coef</th>     <th>std err</th>      <th>z</th>      <th>P>|z|</th>  <th>[0.025</th>    <th>0.975]</th>  \n",
       "</tr>\n",
       "<tr>\n",
       "  <th>const</th> <td>    2.8792</td> <td>    0.396</td> <td>    7.277</td> <td> 0.000</td> <td>    2.104</td> <td>    3.655</td>\n",
       "</tr>\n",
       "<tr>\n",
       "  <th>WBC</th>   <td> 2.623e-07</td> <td> 9.07e-06</td> <td>    0.029</td> <td> 0.977</td> <td>-1.75e-05</td> <td>  1.8e-05</td>\n",
       "</tr>\n",
       "</table>"
      ],
      "text/plain": [
       "<class 'statsmodels.iolib.summary.Summary'>\n",
       "\"\"\"\n",
       "                 Generalized Linear Model Regression Results                  \n",
       "==============================================================================\n",
       "Dep. Variable:                   Time   No. Observations:                   16\n",
       "Model:                            GLM   Df Residuals:                       14\n",
       "Model Family:                   Gamma   Df Model:                            1\n",
       "Link Function:                    log   Scale:                          1.3778\n",
       "Method:                          IRLS   Log-Likelihood:                -62.479\n",
       "Date:                Thu, 12 May 2022   Deviance:                       19.915\n",
       "Time:                        15:09:45   Pearson chi2:                     19.3\n",
       "No. Iterations:                    23                                         \n",
       "Covariance Type:            nonrobust                                         \n",
       "==============================================================================\n",
       "                 coef    std err          z      P>|z|      [0.025      0.975]\n",
       "------------------------------------------------------------------------------\n",
       "const          2.8792      0.396      7.277      0.000       2.104       3.655\n",
       "WBC         2.623e-07   9.07e-06      0.029      0.977   -1.75e-05     1.8e-05\n",
       "==============================================================================\n",
       "\"\"\""
      ]
     },
     "metadata": {},
     "output_type": "display_data"
    },
    {
     "name": "stdout",
     "output_type": "stream",
     "text": [
      "Akaike Information Criterion:  128.95749942333484\n"
     ]
    }
   ],
   "source": [
    "glm_exp = sm.GLM(data.loc[data['AG']==2]['Time'], data.loc[data['AG']==2].drop(columns=['Time', 'AG']), family=sm.families.Gamma(link=sm.families.links.log()))\n",
    "resAG2 = glm_exp.fit()\n",
    "display(resAG2.summary())\n",
    "print('Akaike Information Criterion: ', resAG2.aic)"
   ]
  },
  {
   "cell_type": "markdown",
   "id": "61d7308b",
   "metadata": {},
   "source": [
    "We observe that p-value of WBC is low for AG=1, so we can say that Survival Time decreases with WBC. But for AG=2, the p-value is 0.977. So, Survival Time doesn't depend on WBC."
   ]
  }
 ],
 "metadata": {
  "kernelspec": {
   "display_name": "Python 3",
   "language": "python",
   "name": "python3"
  },
  "language_info": {
   "codemirror_mode": {
    "name": "ipython",
    "version": 3
   },
   "file_extension": ".py",
   "mimetype": "text/x-python",
   "name": "python",
   "nbconvert_exporter": "python",
   "pygments_lexer": "ipython3",
   "version": "3.8.10"
  }
 },
 "nbformat": 4,
 "nbformat_minor": 5
}
